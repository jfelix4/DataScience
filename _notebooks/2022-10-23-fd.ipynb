{
 "cells": [
  {
   "cell_type": "markdown",
   "id": "9c1f8630",
   "metadata": {},
   "source": [
    "# Data Organizing Frequency Distribution using Jupyter \n",
    "\n",
    "> An excellent guide to organize data by constructing a frequency distribution table using Jupyter Notebook\n",
    "- toc:true- branch: master\n",
    "- badges: true\n",
    "- comments: true\n",
    "- author: JF\n",
    "- categories: [fastpages, jupyter]\n",
    "- image: images/fd_image.png\n"
   ]
  },
  {
   "cell_type": "markdown",
   "id": "ae17d205",
   "metadata": {},
   "source": [
    "#### Frequency Distribution"
   ]
  },
  {
   "cell_type": "markdown",
   "id": "71c80eb8",
   "metadata": {},
   "source": [
    "Statistians are known to describe situations, draw conclusions, and make inferences about events. Generally, to do so, they first organize the data into a meaningful way by constructing a frequency distribution. Then, they present them in a way that people could understand by constructing statistical charts and graphs. There are 3 types of frequency distributions: categorical, grouped, and ungrouped.\n",
    "\n",
    "We use categorical frequency distribution when we are dealing with norminal and ordinal type data. Both grouped and ungrouped frequency distributions are used for data that are numerical. When the range of the data is small, we use grouped frequency distributions while we use ungrouped frequency distributions when the range of the data is large."
   ]
  },
  {
   "cell_type": "markdown",
   "id": "e4645a35",
   "metadata": {},
   "source": [
    "**Suppose that 25 students in a college were given a blood test to determine their blood level type. At the same time, the color of their hair was noted as well as the distance of their houses to the school. The data set is presented in an excel spreadsheet and will be imported to be organized by the use of frequency distributions.**"
   ]
  },
  {
   "cell_type": "code",
   "execution_count": 63,
   "id": "4b3f3bbe",
   "metadata": {},
   "outputs": [],
   "source": [
    "import pandas as pd\n",
    "import numpy as np"
   ]
  },
  {
   "cell_type": "code",
   "execution_count": 64,
   "id": "5fbc479e",
   "metadata": {},
   "outputs": [
    {
     "data": {
      "text/html": [
       "<div>\n",
       "<style scoped>\n",
       "    .dataframe tbody tr th:only-of-type {\n",
       "        vertical-align: middle;\n",
       "    }\n",
       "\n",
       "    .dataframe tbody tr th {\n",
       "        vertical-align: top;\n",
       "    }\n",
       "\n",
       "    .dataframe thead th {\n",
       "        text-align: right;\n",
       "    }\n",
       "</style>\n",
       "<table border=\"1\" class=\"dataframe\">\n",
       "  <thead>\n",
       "    <tr style=\"text-align: right;\">\n",
       "      <th></th>\n",
       "      <th>Name</th>\n",
       "      <th>Age</th>\n",
       "      <th>Blood Type</th>\n",
       "      <th>Hair Color</th>\n",
       "      <th>Distance (miles)</th>\n",
       "    </tr>\n",
       "  </thead>\n",
       "  <tbody>\n",
       "    <tr>\n",
       "      <th>0</th>\n",
       "      <td>Willie Morris</td>\n",
       "      <td>22</td>\n",
       "      <td>A</td>\n",
       "      <td>blue</td>\n",
       "      <td>4</td>\n",
       "    </tr>\n",
       "    <tr>\n",
       "      <th>1</th>\n",
       "      <td>Patty Todd</td>\n",
       "      <td>19</td>\n",
       "      <td>B</td>\n",
       "      <td>blue</td>\n",
       "      <td>8</td>\n",
       "    </tr>\n",
       "    <tr>\n",
       "      <th>2</th>\n",
       "      <td>Traci Rice</td>\n",
       "      <td>31</td>\n",
       "      <td>B</td>\n",
       "      <td>black</td>\n",
       "      <td>8</td>\n",
       "    </tr>\n",
       "    <tr>\n",
       "      <th>3</th>\n",
       "      <td>Doris Lynch</td>\n",
       "      <td>42</td>\n",
       "      <td>AB</td>\n",
       "      <td>brown</td>\n",
       "      <td>9</td>\n",
       "    </tr>\n",
       "    <tr>\n",
       "      <th>4</th>\n",
       "      <td>Emilio Rogers</td>\n",
       "      <td>35</td>\n",
       "      <td>O</td>\n",
       "      <td>black</td>\n",
       "      <td>8</td>\n",
       "    </tr>\n",
       "  </tbody>\n",
       "</table>\n",
       "</div>"
      ],
      "text/plain": [
       "            Name  Age Blood Type Hair Color  Distance (miles)\n",
       "0  Willie Morris   22          A       blue                 4\n",
       "1     Patty Todd   19          B       blue                 8\n",
       "2     Traci Rice   31          B      black                 8\n",
       "3    Doris Lynch   42         AB      brown                 9\n",
       "4  Emilio Rogers   35          O      black                 8"
      ]
     },
     "execution_count": 64,
     "metadata": {},
     "output_type": "execute_result"
    }
   ],
   "source": [
    "# Let us see the first top data entries\n",
    "rawdata = pd.read_excel('studentinfo.xlsx')\n",
    "rawdata.head()"
   ]
  },
  {
   "cell_type": "code",
   "execution_count": 65,
   "id": "6532b61a",
   "metadata": {},
   "outputs": [
    {
     "name": "stdout",
     "output_type": "stream",
     "text": [
      "Shape of Dataset : (25, 3)\n"
     ]
    },
    {
     "data": {
      "text/html": [
       "<div>\n",
       "<style scoped>\n",
       "    .dataframe tbody tr th:only-of-type {\n",
       "        vertical-align: middle;\n",
       "    }\n",
       "\n",
       "    .dataframe tbody tr th {\n",
       "        vertical-align: top;\n",
       "    }\n",
       "\n",
       "    .dataframe thead th {\n",
       "        text-align: right;\n",
       "    }\n",
       "</style>\n",
       "<table border=\"1\" class=\"dataframe\">\n",
       "  <thead>\n",
       "    <tr style=\"text-align: right;\">\n",
       "      <th></th>\n",
       "      <th>Blood Type</th>\n",
       "      <th>Hair Color</th>\n",
       "      <th>Distance (miles)</th>\n",
       "    </tr>\n",
       "  </thead>\n",
       "  <tbody>\n",
       "    <tr>\n",
       "      <th>0</th>\n",
       "      <td>A</td>\n",
       "      <td>blue</td>\n",
       "      <td>4</td>\n",
       "    </tr>\n",
       "    <tr>\n",
       "      <th>1</th>\n",
       "      <td>B</td>\n",
       "      <td>blue</td>\n",
       "      <td>8</td>\n",
       "    </tr>\n",
       "    <tr>\n",
       "      <th>2</th>\n",
       "      <td>B</td>\n",
       "      <td>black</td>\n",
       "      <td>8</td>\n",
       "    </tr>\n",
       "    <tr>\n",
       "      <th>3</th>\n",
       "      <td>AB</td>\n",
       "      <td>brown</td>\n",
       "      <td>9</td>\n",
       "    </tr>\n",
       "    <tr>\n",
       "      <th>4</th>\n",
       "      <td>O</td>\n",
       "      <td>black</td>\n",
       "      <td>8</td>\n",
       "    </tr>\n",
       "    <tr>\n",
       "      <th>5</th>\n",
       "      <td>O</td>\n",
       "      <td>brown</td>\n",
       "      <td>5</td>\n",
       "    </tr>\n",
       "    <tr>\n",
       "      <th>6</th>\n",
       "      <td>O</td>\n",
       "      <td>Red</td>\n",
       "      <td>9</td>\n",
       "    </tr>\n",
       "  </tbody>\n",
       "</table>\n",
       "</div>"
      ],
      "text/plain": [
       "  Blood Type Hair Color  Distance (miles)\n",
       "0          A       blue                 4\n",
       "1          B       blue                 8\n",
       "2          B      black                 8\n",
       "3         AB      brown                 9\n",
       "4          O      black                 8\n",
       "5          O      brown                 5\n",
       "6          O        Red                 9"
      ]
     },
     "execution_count": 65,
     "metadata": {},
     "output_type": "execute_result"
    }
   ],
   "source": [
    "# Let us isolate the columns we want to use to construct the frequency distributions\n",
    "df= pd.read_excel('studentinfo.xlsx')\n",
    "req_columns = [\"Blood Type\", \"Hair Color\", \"Distance (miles)\"]\n",
    "df = df[req_columns]\n",
    "print(\"Shape of Dataset :\", df.shape)\n",
    "df.head(7)"
   ]
  },
  {
   "cell_type": "markdown",
   "id": "fd6e1bc6",
   "metadata": {},
   "source": [
    "#### Categorical Frequency Distributions for \"Blood Type\""
   ]
  },
  {
   "cell_type": "code",
   "execution_count": 71,
   "id": "818ea97b",
   "metadata": {},
   "outputs": [
    {
     "data": {
      "text/html": [
       "<div>\n",
       "<style scoped>\n",
       "    .dataframe tbody tr th:only-of-type {\n",
       "        vertical-align: middle;\n",
       "    }\n",
       "\n",
       "    .dataframe tbody tr th {\n",
       "        vertical-align: top;\n",
       "    }\n",
       "\n",
       "    .dataframe thead th {\n",
       "        text-align: right;\n",
       "    }\n",
       "</style>\n",
       "<table border=\"1\" class=\"dataframe\">\n",
       "  <thead>\n",
       "    <tr style=\"text-align: right;\">\n",
       "      <th></th>\n",
       "      <th>Blood Type</th>\n",
       "      <th>frequency</th>\n",
       "    </tr>\n",
       "  </thead>\n",
       "  <tbody>\n",
       "    <tr>\n",
       "      <th>0</th>\n",
       "      <td>A</td>\n",
       "      <td>5</td>\n",
       "    </tr>\n",
       "    <tr>\n",
       "      <th>1</th>\n",
       "      <td>AB</td>\n",
       "      <td>4</td>\n",
       "    </tr>\n",
       "    <tr>\n",
       "      <th>2</th>\n",
       "      <td>B</td>\n",
       "      <td>7</td>\n",
       "    </tr>\n",
       "    <tr>\n",
       "      <th>3</th>\n",
       "      <td>O</td>\n",
       "      <td>9</td>\n",
       "    </tr>\n",
       "  </tbody>\n",
       "</table>\n",
       "</div>"
      ],
      "text/plain": [
       "  Blood Type  frequency\n",
       "0          A          5\n",
       "1         AB          4\n",
       "2          B          7\n",
       "3          O          9"
      ]
     },
     "execution_count": 71,
     "metadata": {},
     "output_type": "execute_result"
    }
   ],
   "source": [
    "df.groupby(\"Blood Type\").size().reset_index(name = \"frequency\")"
   ]
  },
  {
   "cell_type": "markdown",
   "id": "a53a48a1",
   "metadata": {},
   "source": [
    "As we notice, a frequency distribution gives us a more general way of organizing the data. We can see that there are more students with blood type O."
   ]
  },
  {
   "cell_type": "markdown",
   "id": "970847d4",
   "metadata": {},
   "source": [
    "#### Categorical Frequency Distributions for \"Hair Color\""
   ]
  },
  {
   "cell_type": "code",
   "execution_count": 72,
   "id": "973cec1c",
   "metadata": {},
   "outputs": [
    {
     "data": {
      "text/html": [
       "<div>\n",
       "<style scoped>\n",
       "    .dataframe tbody tr th:only-of-type {\n",
       "        vertical-align: middle;\n",
       "    }\n",
       "\n",
       "    .dataframe tbody tr th {\n",
       "        vertical-align: top;\n",
       "    }\n",
       "\n",
       "    .dataframe thead th {\n",
       "        text-align: right;\n",
       "    }\n",
       "</style>\n",
       "<table border=\"1\" class=\"dataframe\">\n",
       "  <thead>\n",
       "    <tr style=\"text-align: right;\">\n",
       "      <th></th>\n",
       "      <th>Hair Color</th>\n",
       "      <th>frequency</th>\n",
       "    </tr>\n",
       "  </thead>\n",
       "  <tbody>\n",
       "    <tr>\n",
       "      <th>0</th>\n",
       "      <td>Red</td>\n",
       "      <td>2</td>\n",
       "    </tr>\n",
       "    <tr>\n",
       "      <th>1</th>\n",
       "      <td>black</td>\n",
       "      <td>9</td>\n",
       "    </tr>\n",
       "    <tr>\n",
       "      <th>2</th>\n",
       "      <td>blue</td>\n",
       "      <td>5</td>\n",
       "    </tr>\n",
       "    <tr>\n",
       "      <th>3</th>\n",
       "      <td>brown</td>\n",
       "      <td>6</td>\n",
       "    </tr>\n",
       "    <tr>\n",
       "      <th>4</th>\n",
       "      <td>red</td>\n",
       "      <td>3</td>\n",
       "    </tr>\n",
       "  </tbody>\n",
       "</table>\n",
       "</div>"
      ],
      "text/plain": [
       "  Hair Color  frequency\n",
       "0        Red          2\n",
       "1      black          9\n",
       "2       blue          5\n",
       "3      brown          6\n",
       "4        red          3"
      ]
     },
     "execution_count": 72,
     "metadata": {},
     "output_type": "execute_result"
    }
   ],
   "source": [
    "df.groupby(\"Hair Color\").size().reset_index(name = \"frequency\")"
   ]
  },
  {
   "cell_type": "markdown",
   "id": "0f05e294",
   "metadata": {},
   "source": [
    "There are more students with black hair, followed by students with brown hair."
   ]
  },
  {
   "cell_type": "markdown",
   "id": "2088b033",
   "metadata": {},
   "source": [
    "#### Grouped Frequency Distribution"
   ]
  },
  {
   "cell_type": "code",
   "execution_count": 79,
   "id": "5efe689e",
   "metadata": {},
   "outputs": [
    {
     "data": {
      "text/html": [
       "<div>\n",
       "<style scoped>\n",
       "    .dataframe tbody tr th:only-of-type {\n",
       "        vertical-align: middle;\n",
       "    }\n",
       "\n",
       "    .dataframe tbody tr th {\n",
       "        vertical-align: top;\n",
       "    }\n",
       "\n",
       "    .dataframe thead th {\n",
       "        text-align: right;\n",
       "    }\n",
       "</style>\n",
       "<table border=\"1\" class=\"dataframe\">\n",
       "  <thead>\n",
       "    <tr style=\"text-align: right;\">\n",
       "      <th></th>\n",
       "      <th>Distance (miles)</th>\n",
       "      <th>frequencya</th>\n",
       "    </tr>\n",
       "  </thead>\n",
       "  <tbody>\n",
       "    <tr>\n",
       "      <th>0</th>\n",
       "      <td>4</td>\n",
       "      <td>2</td>\n",
       "    </tr>\n",
       "    <tr>\n",
       "      <th>1</th>\n",
       "      <td>5</td>\n",
       "      <td>3</td>\n",
       "    </tr>\n",
       "    <tr>\n",
       "      <th>2</th>\n",
       "      <td>6</td>\n",
       "      <td>1</td>\n",
       "    </tr>\n",
       "    <tr>\n",
       "      <th>3</th>\n",
       "      <td>7</td>\n",
       "      <td>5</td>\n",
       "    </tr>\n",
       "    <tr>\n",
       "      <th>4</th>\n",
       "      <td>8</td>\n",
       "      <td>7</td>\n",
       "    </tr>\n",
       "    <tr>\n",
       "      <th>5</th>\n",
       "      <td>9</td>\n",
       "      <td>4</td>\n",
       "    </tr>\n",
       "    <tr>\n",
       "      <th>6</th>\n",
       "      <td>10</td>\n",
       "      <td>2</td>\n",
       "    </tr>\n",
       "    <tr>\n",
       "      <th>7</th>\n",
       "      <td>11</td>\n",
       "      <td>1</td>\n",
       "    </tr>\n",
       "  </tbody>\n",
       "</table>\n",
       "</div>"
      ],
      "text/plain": [
       "   Distance (miles)  frequencya\n",
       "0                 4           2\n",
       "1                 5           3\n",
       "2                 6           1\n",
       "3                 7           5\n",
       "4                 8           7\n",
       "5                 9           4\n",
       "6                10           2\n",
       "7                11           1"
      ]
     },
     "execution_count": 79,
     "metadata": {},
     "output_type": "execute_result"
    }
   ],
   "source": [
    "df.groupby(\"Distance (miles)\").size().reset_index(name = \"frequencya\")"
   ]
  },
  {
   "cell_type": "code",
   "execution_count": null,
   "id": "65d057d5",
   "metadata": {},
   "outputs": [],
   "source": [
    "Cumulatively, we see that 18 students live within 8 miles or less from the school."
   ]
  }
 ],
 "metadata": {
  "kernelspec": {
   "display_name": "Python 3 (ipykernel)",
   "language": "python",
   "name": "python3"
  },
  "language_info": {
   "codemirror_mode": {
    "name": "ipython",
    "version": 3
   },
   "file_extension": ".py",
   "mimetype": "text/x-python",
   "name": "python",
   "nbconvert_exporter": "python",
   "pygments_lexer": "ipython3",
   "version": "3.9.12"
  }
 },
 "nbformat": 4,
 "nbformat_minor": 5
}
